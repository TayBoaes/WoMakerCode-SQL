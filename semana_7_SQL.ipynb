{
  "nbformat": 4,
  "nbformat_minor": 0,
  "metadata": {
    "colab": {
      "provenance": [],
      "authorship_tag": "ABX9TyOLZc7gY+N4sFQW+2TTSk5T",
      "include_colab_link": true
    },
    "kernelspec": {
      "name": "python3",
      "display_name": "Python 3"
    },
    "language_info": {
      "name": "python"
    }
  },
  "cells": [
    {
      "cell_type": "markdown",
      "metadata": {
        "id": "view-in-github",
        "colab_type": "text"
      },
      "source": [
        "<a href=\"https://colab.research.google.com/github/TayBoaes/WoMakersCode-SQL/blob/main/semana_7_SQL.ipynb\" target=\"_parent\"><img src=\"https://colab.research.google.com/assets/colab-badge.svg\" alt=\"Open In Colab\"/></a>"
      ]
    },
    {
      "cell_type": "code",
      "execution_count": null,
      "metadata": {
        "id": "Uav6CWf9Aao7"
      },
      "outputs": [],
      "source": [
        "import sqlite3 #estrutura geral para gente conseguir fazer a conexão"
      ]
    },
    {
      "cell_type": "code",
      "source": [
        "conexao = sqlite3.connect('banco')\n",
        "cursor = conexao.cursor()"
      ],
      "metadata": {
        "id": "ddDPXnvXi8Hx"
      },
      "execution_count": null,
      "outputs": []
    },
    {
      "cell_type": "code",
      "source": [
        "cursor.execute (' CREATE TABLE usuarios (id INT, nome VARCHAR (100), endereco VARCHAR (100), email VARCHAR (100))') #dentro das aspas simples vamos começar a criar a nossa tabela"
      ],
      "metadata": {
        "colab": {
          "base_uri": "https://localhost:8080/"
        },
        "id": "giPEKegIj3lY",
        "outputId": "49649f9b-41a9-43ae-e3fb-f374f75b77fb"
      },
      "execution_count": null,
      "outputs": [
        {
          "output_type": "execute_result",
          "data": {
            "text/plain": [
              "<sqlite3.Cursor at 0x79c2cc766a40>"
            ]
          },
          "metadata": {},
          "execution_count": 4
        }
      ]
    },
    {
      "cell_type": "code",
      "source": [
        "cursor.execute ('ALTER TABLE usuarios RENAME TO usuario')"
      ],
      "metadata": {
        "colab": {
          "base_uri": "https://localhost:8080/"
        },
        "id": "bXTC-47rmuRX",
        "outputId": "27fb7a21-f925-4887-a132-79cbcbb36691"
      },
      "execution_count": null,
      "outputs": [
        {
          "output_type": "execute_result",
          "data": {
            "text/plain": [
              "<sqlite3.Cursor at 0x79c2cc766a40>"
            ]
          },
          "metadata": {},
          "execution_count": 5
        }
      ]
    },
    {
      "cell_type": "code",
      "source": [
        "cursor.execute ('ALTER TABLE usuario ADD COLUMN telefoni INT') #criando uma nova coluna"
      ],
      "metadata": {
        "colab": {
          "base_uri": "https://localhost:8080/"
        },
        "id": "RqPNgnWdqp_T",
        "outputId": "f0f9d8a3-386d-433f-e434-8cdf040ef884"
      },
      "execution_count": null,
      "outputs": [
        {
          "output_type": "execute_result",
          "data": {
            "text/plain": [
              "<sqlite3.Cursor at 0x79c2cc766a40>"
            ]
          },
          "metadata": {},
          "execution_count": 6
        }
      ]
    },
    {
      "cell_type": "code",
      "source": [
        "#anteriomente criamos uma nova coluna na nossa tabela, perceba que a grafia está errada.\n",
        "cursor.execute ('ALTER TABLE usuario RENAME COLUMN telefoni TO telefone')"
      ],
      "metadata": {
        "colab": {
          "base_uri": "https://localhost:8080/"
        },
        "id": "NBNZDl0frD-d",
        "outputId": "d2a88be7-825d-4a60-85c7-8f5cc7335639"
      },
      "execution_count": null,
      "outputs": [
        {
          "output_type": "execute_result",
          "data": {
            "text/plain": [
              "<sqlite3.Cursor at 0x79c2cc766a40>"
            ]
          },
          "metadata": {},
          "execution_count": 7
        }
      ]
    },
    {
      "cell_type": "code",
      "source": [
        "#cursor.execute ('SELECT * FROM usuario' ) #verificando a minha tabela e a mudança feita\n",
        "print (cursor.fetchall())"
      ],
      "metadata": {
        "colab": {
          "base_uri": "https://localhost:8080/"
        },
        "id": "jgVBkYfEp3K9",
        "outputId": "1e7e3f1d-c150-4f05-d691-8b96c3afa1ae"
      },
      "execution_count": null,
      "outputs": [
        {
          "output_type": "stream",
          "name": "stdout",
          "text": [
            "[]\n"
          ]
        }
      ]
    },
    {
      "cell_type": "code",
      "source": [
        "# comando INSERT\n",
        "cursor.execute('INSERT INTO usuario (id,nome,endereco,email,telefone) VALUES (1,\"Isadora\",\"França\",\"taygmail.com\",982406678)')"
      ],
      "metadata": {
        "colab": {
          "base_uri": "https://localhost:8080/"
        },
        "id": "sfixtv1DtmjX",
        "outputId": "cd381756-c758-4262-8953-97266b20c917"
      },
      "execution_count": null,
      "outputs": [
        {
          "output_type": "execute_result",
          "data": {
            "text/plain": [
              "<sqlite3.Cursor at 0x79c2cc766a40>"
            ]
          },
          "metadata": {},
          "execution_count": 9
        }
      ]
    },
    {
      "cell_type": "code",
      "source": [
        "cursor.execute ('INSERT INTO usuario (id,nome,endereco,telefone) VALUES (1, \"Tayná\", \"Brasil\", 25865)')\n",
        "cursor.execute ('INSERT INTO usuario (id,nome,endereco,telefone) VALUES (2, \"Caynã\", \"Alemanha\", 48578)')\n",
        "cursor.execute ('INSERT INTO usuario (id,nome,endereco,telefone) VALUES (3, \"Kauê\", \"Argentina\", 45236)')\n",
        "cursor.execute ('INSERT INTO usuario (id,nome,endereco,telefone) VALUES (4, \"Júlia\", \"Venezuela\", 98565)')\n",
        "cursor.execute ('INSERT INTO usuario (id,nome,endereco,telefone) VALUES (5, \"Pedro\", \"Coreia\", 85236)')"
      ],
      "metadata": {
        "colab": {
          "base_uri": "https://localhost:8080/"
        },
        "id": "ilRkut60BhbI",
        "outputId": "1cb54725-55b9-436a-8393-5f5cf3b69e12"
      },
      "execution_count": null,
      "outputs": [
        {
          "output_type": "execute_result",
          "data": {
            "text/plain": [
              "<sqlite3.Cursor at 0x79c2cc766a40>"
            ]
          },
          "metadata": {},
          "execution_count": 32
        }
      ]
    },
    {
      "cell_type": "code",
      "source": [
        "cursor.execute ('SELECT * FROM usuario' ) #verificando a minha tabela e a mudança feita\n",
        "print (cursor.fetchall())"
      ],
      "metadata": {
        "id": "rJ1QDwIJxW9x",
        "outputId": "409a32e0-1849-4f1c-8377-9a2a29bccad6",
        "colab": {
          "base_uri": "https://localhost:8080/"
        }
      },
      "execution_count": null,
      "outputs": [
        {
          "output_type": "stream",
          "name": "stdout",
          "text": [
            "[(1, 'Isadora', 'França', 'taygmail.com', 982406678)]\n"
          ]
        }
      ]
    },
    {
      "cell_type": "code",
      "source": [
        "conexao.commit() #o commit quer dizer que vão ser enviadas as informações\n",
        "conexao.close #é importante deixar o close para não dar conflito com o nosso gerenciador"
      ],
      "metadata": {
        "id": "PHw6vyLbsSAA",
        "colab": {
          "base_uri": "https://localhost:8080/"
        },
        "outputId": "10980ebe-c95d-4f16-8a8e-9032356de197"
      },
      "execution_count": null,
      "outputs": [
        {
          "output_type": "execute_result",
          "data": {
            "text/plain": [
              "<function Connection.close()>"
            ]
          },
          "metadata": {},
          "execution_count": 11
        }
      ]
    },
    {
      "cell_type": "code",
      "source": [
        "dados = cursor.execute( '''\n",
        "SELECT * FROM usuario\n",
        "ORDER BY nome DESC\n",
        "''')\n",
        "\n",
        "for usuario in dados:\n",
        "  print(usuario) #DECRESCENTE"
      ],
      "metadata": {
        "colab": {
          "base_uri": "https://localhost:8080/"
        },
        "id": "vSh6zVM67VMX",
        "outputId": "756116b9-bcb6-4d8a-c085-f9a50e209a1b"
      },
      "execution_count": null,
      "outputs": [
        {
          "output_type": "stream",
          "name": "stdout",
          "text": [
            "(1, 'Isadora', 'França', 'taygmail.com', 982406678)\n"
          ]
        }
      ]
    },
    {
      "cell_type": "code",
      "source": [
        "# cláusulas LIMIT E DISTINCT\n",
        "\n",
        "dados = cursor.execute( '''\n",
        "SELECT * FROM usuario\n",
        "LIMIT 1\n",
        "''')\n",
        "\n",
        "for usuario in dados:\n",
        "  print(usuario)\n",
        "# O LIMIT 1 vai nos retornar apenas uma informação"
      ],
      "metadata": {
        "colab": {
          "base_uri": "https://localhost:8080/"
        },
        "id": "HLx__FPM8F1y",
        "outputId": "94b3898c-5432-4374-d431-2d3103af06a9"
      },
      "execution_count": null,
      "outputs": [
        {
          "output_type": "stream",
          "name": "stdout",
          "text": [
            "(1, 'Isadora', 'França', 'taygmail.com', 982406678)\n"
          ]
        }
      ]
    },
    {
      "cell_type": "code",
      "source": [
        "#O DISTINCT vai trazer somente valores que forem diferentes\n",
        "\n",
        "dados = cursor.execute( '''\n",
        "SELECT DISTINCT* FROM usuario\n",
        "LIMIT 1\n",
        "''')\n",
        "\n",
        "for usuario in dados:\n",
        "  print(usuario)\n",
        "\n",
        "#Podemos combinar diferentes clásulas para colocar difentes filtros"
      ],
      "metadata": {
        "colab": {
          "base_uri": "https://localhost:8080/"
        },
        "id": "s7edGzXc827O",
        "outputId": "7882a402-1b94-454e-a861-75f3f09f3422"
      },
      "execution_count": null,
      "outputs": [
        {
          "output_type": "stream",
          "name": "stdout",
          "text": [
            "(1, 'Isadora', 'França', 'taygmail.com', 982406678)\n"
          ]
        }
      ]
    },
    {
      "cell_type": "code",
      "source": [
        "# Cláusulas: GROUP BY e HAVING\n",
        "\n",
        "dados = cursor.execute( '''\n",
        "SELECT nome FROM usuario\n",
        "GROUP BY  nome\n",
        "''')\n",
        "\n",
        "for usuario in dados:\n",
        "  print(usuario)"
      ],
      "metadata": {
        "colab": {
          "base_uri": "https://localhost:8080/"
        },
        "id": "IECViXJD9epz",
        "outputId": "7e49562a-0160-4252-f713-5923232e7105"
      },
      "execution_count": null,
      "outputs": [
        {
          "output_type": "stream",
          "name": "stdout",
          "text": [
            "('Isadora',)\n"
          ]
        }
      ]
    },
    {
      "cell_type": "code",
      "source": [
        "#Supondo que queremos somente os usuários de id superior a 3\n",
        "\n",
        "dados = cursor.execute( '''\n",
        "SELECT nome FROM usuario\n",
        "GROUP BY nome\n",
        "WHERE id = 1\n",
        "''')\n",
        "\n",
        "for usuario in dados:\n",
        "  print(usuario)\n",
        "\n",
        "  #deu erro porque com o GROUP BY nós vamos conseguir trabalhar com a cláusula WHERE"
      ],
      "metadata": {
        "colab": {
          "base_uri": "https://localhost:8080/",
          "height": 211
        },
        "id": "S0P2i3eq-HRy",
        "outputId": "7292ea20-00a0-4495-8bc1-a9c27bc87b1b"
      },
      "execution_count": null,
      "outputs": [
        {
          "output_type": "error",
          "ename": "Warning",
          "evalue": "You can only execute one statement at a time.",
          "traceback": [
            "\u001b[0;31m---------------------------------------------------------------------------\u001b[0m",
            "\u001b[0;31mWarning\u001b[0m                                   Traceback (most recent call last)",
            "\u001b[0;32m<ipython-input-23-a99b40f59710>\u001b[0m in \u001b[0;36m<cell line: 3>\u001b[0;34m()\u001b[0m\n\u001b[1;32m      1\u001b[0m \u001b[0;31m#Supondo que queremos somente os usuários de id superior a 3\u001b[0m\u001b[0;34m\u001b[0m\u001b[0;34m\u001b[0m\u001b[0m\n\u001b[1;32m      2\u001b[0m \u001b[0;34m\u001b[0m\u001b[0m\n\u001b[0;32m----> 3\u001b[0;31m dados = cursor.execute( ''' \n\u001b[0m\u001b[1;32m      4\u001b[0m \u001b[0mSELECT\u001b[0m \u001b[0mnome\u001b[0m \u001b[0mFROM\u001b[0m \u001b[0musuario\u001b[0m\u001b[0;34m\u001b[0m\u001b[0;34m\u001b[0m\u001b[0m\n\u001b[1;32m      5\u001b[0m \u001b[0mGROUP\u001b[0m \u001b[0mBY\u001b[0m \u001b[0mnome\u001b[0m\u001b[0;34m;\u001b[0m\u001b[0;34m\u001b[0m\u001b[0;34m\u001b[0m\u001b[0m\n",
            "\u001b[0;31mWarning\u001b[0m: You can only execute one statement at a time."
          ]
        }
      ]
    },
    {
      "cell_type": "code",
      "source": [
        "#Então ao invés de utilizar WHERE, vamos utilizar a clausula HAVING que consegue funcionar com o GROUP BY\n",
        "dados = cursor.execute ('SELECT nome FROM usuario GROUP BY nome HAVING id =1')\n",
        "\n",
        "for usuario in dados:\n",
        "  print(usuario)\n",
        "\n",
        "# O Having e o Where são similares, a diferença é que a clausula HAVING é utilizado após a agregagação (GROUP BY)\n",
        "#Já o WHERE é bem aceito antes da agregação\n"
      ],
      "metadata": {
        "colab": {
          "base_uri": "https://localhost:8080/"
        },
        "id": "lHC4riPh-yek",
        "outputId": "57dad882-931c-4ac7-f6a7-e98a3b135d76"
      },
      "execution_count": null,
      "outputs": [
        {
          "output_type": "stream",
          "name": "stdout",
          "text": [
            "('Isadora',)\n"
          ]
        }
      ]
    },
    {
      "cell_type": "markdown",
      "source": [
        " cláusula **JOIN'S** (Right, Left, Full e Inner)\n",
        "\n",
        "\n",
        "---\n",
        "\n",
        "É usado quando queremos trabalhar quando queremos retornar informações agrupadas, informações de mais de uma tabela. Temos 4 tipos de joisn: RIGHT, LEFT, FULL e INNER.\n"
      ],
      "metadata": {
        "id": "-L0k07RmAgg1"
      }
    },
    {
      "cell_type": "code",
      "source": [
        "cursor.execute (' CREATE TABLE gerentes (id INT, nome VARCHAR (100), endereco VARCHAR (100), email VARCHAR (100))')"
      ],
      "metadata": {
        "colab": {
          "base_uri": "https://localhost:8080/"
        },
        "id": "36PHHy0qDEXL",
        "outputId": "a09be060-f875-41e7-ea9a-2922275a0b3c"
      },
      "execution_count": null,
      "outputs": [
        {
          "output_type": "execute_result",
          "data": {
            "text/plain": [
              "<sqlite3.Cursor at 0x79c2cc766a40>"
            ]
          },
          "metadata": {},
          "execution_count": 33
        }
      ]
    },
    {
      "cell_type": "code",
      "source": [
        "cursor.execute ('INSERT INTO gerentes (id,nome,endereco,email) VALUES (6, \"Ana\", \"Japão\", \"ana@gmail.com\")')\n",
        "cursor.execute ('INSERT INTO gerentes (id,nome,endereco,email) VALUES (7, \"Rebeca\", \"Ucrânia\", \"rebeca@gmail.com\")')\n",
        "cursor.execute ('INSERT INTO gerentes (id,nome,endereco,email) VALUES (8, \"Jonas\", \"Bélgica\", \"jonas@gmail.com\")')\n",
        "cursor.execute ('INSERT INTO gerentes (id,nome,endereco,email) VALUES (9, \"Guilherme\", \"Holanda\", \"guilherme@gmail.com\")')\n",
        "cursor.execute ('INSERT INTO gerentes (id,nome,endereco,email) VALUES (10, \"Tiago\", \"Canadá\", \"tiago@gmail.com\")')"
      ],
      "metadata": {
        "colab": {
          "base_uri": "https://localhost:8080/"
        },
        "id": "8T0W3oivDm_v",
        "outputId": "2ccf36f5-aa90-4dc7-c6bb-fe5b67504af2"
      },
      "execution_count": null,
      "outputs": [
        {
          "output_type": "execute_result",
          "data": {
            "text/plain": [
              "<sqlite3.Cursor at 0x79c2cc766a40>"
            ]
          },
          "metadata": {},
          "execution_count": 35
        }
      ]
    },
    {
      "cell_type": "code",
      "source": [
        "# JOIN - INNER JOIN: vai pegar todas as linhas, todas as informações correspondentes para ambas as tabelas\n",
        "dados = cursor.execute ('SELECT * FROM usuario INNER JOIN gerentes ON usuario.id = gerentes.id')\n",
        "for usuario in dados:\n",
        "  print(usuario)"
      ],
      "metadata": {
        "id": "J2u6G9l_FWtX"
      },
      "execution_count": null,
      "outputs": []
    },
    {
      "cell_type": "code",
      "source": [
        "#JOIN - LEFT JOIN: são os resultados da tabela esquerda, vai retornar todas as linhas da tabela a esquerda\n",
        "dados = cursor.execute ('SELECT * FROM usuario LEFT JOIN gerentes ON usuario.nome = gerentes.nome')\n",
        "for usuario in dados:\n",
        "  print(usuario)"
      ],
      "metadata": {
        "colab": {
          "base_uri": "https://localhost:8080/"
        },
        "id": "VXmdJ6JYGaDc",
        "outputId": "b8cd8257-7c47-45e4-b7d4-6ed87897513e"
      },
      "execution_count": null,
      "outputs": [
        {
          "output_type": "stream",
          "name": "stdout",
          "text": [
            "(1, 'Isadora', 'França', 'taygmail.com', 982406678, None, None, None, None)\n",
            "(1, 'Tayná', 'Brasil', None, 25865, None, None, None, None)\n",
            "(2, 'Caynã', 'Alemanha', None, 48578, None, None, None, None)\n",
            "(3, 'Kauê', 'Argentina', None, 45236, None, None, None, None)\n",
            "(4, 'Júlia', 'Venezuela', None, 98565, None, None, None, None)\n",
            "(5, 'Pedro', 'Coreia', None, 85236, None, None, None, None)\n"
          ]
        }
      ]
    },
    {
      "cell_type": "code",
      "source": [
        "#JOIN - RIGHT JOIN: são os resultados da tabela direita, vai retornar todas as linhas da tabela a direita\n",
        "dados = cursor.execute ('SELECT * FROM usuario RIGHT JOIN gerentes ON usuario.nome = gerentes.nome')\n",
        "for usuario in dados:\n",
        "  print(usuario)"
      ],
      "metadata": {
        "colab": {
          "base_uri": "https://localhost:8080/",
          "height": 193
        },
        "id": "aZIUApFIHWs7",
        "outputId": "cb4b0858-11f8-48ee-936f-64d78b2409fa"
      },
      "execution_count": null,
      "outputs": [
        {
          "output_type": "error",
          "ename": "OperationalError",
          "evalue": "RIGHT and FULL OUTER JOINs are not currently supported",
          "traceback": [
            "\u001b[0;31m---------------------------------------------------------------------------\u001b[0m",
            "\u001b[0;31mOperationalError\u001b[0m                          Traceback (most recent call last)",
            "\u001b[0;32m<ipython-input-48-5d7c3c02cf31>\u001b[0m in \u001b[0;36m<cell line: 2>\u001b[0;34m()\u001b[0m\n\u001b[1;32m      1\u001b[0m \u001b[0;31m#JOIN - RIGHT JOIN: são os resultados da tabela direita, vai retornar todas as linhas da tabela a direita\u001b[0m\u001b[0;34m\u001b[0m\u001b[0;34m\u001b[0m\u001b[0m\n\u001b[0;32m----> 2\u001b[0;31m \u001b[0mdados\u001b[0m \u001b[0;34m=\u001b[0m \u001b[0mcursor\u001b[0m\u001b[0;34m.\u001b[0m\u001b[0mexecute\u001b[0m \u001b[0;34m(\u001b[0m\u001b[0;34m'SELECT * FROM usuario RIGHT JOIN gerentes ON usuario.nome = gerentes.nome'\u001b[0m\u001b[0;34m)\u001b[0m\u001b[0;34m\u001b[0m\u001b[0;34m\u001b[0m\u001b[0m\n\u001b[0m\u001b[1;32m      3\u001b[0m \u001b[0;32mfor\u001b[0m \u001b[0musuario\u001b[0m \u001b[0;32min\u001b[0m \u001b[0mdados\u001b[0m\u001b[0;34m:\u001b[0m\u001b[0;34m\u001b[0m\u001b[0;34m\u001b[0m\u001b[0m\n\u001b[1;32m      4\u001b[0m   \u001b[0mprint\u001b[0m\u001b[0;34m(\u001b[0m\u001b[0musuario\u001b[0m\u001b[0;34m)\u001b[0m\u001b[0;34m\u001b[0m\u001b[0;34m\u001b[0m\u001b[0m\n",
            "\u001b[0;31mOperationalError\u001b[0m: RIGHT and FULL OUTER JOINs are not currently supported"
          ]
        }
      ]
    },
    {
      "cell_type": "code",
      "source": [
        "#JOIN - FULL JOIN: vai retornas todas as linhas da tabela\n",
        "dados = cursor.execute ('SELECT * FROM usuario FULL JOIN gerentes ON usuario.nome = gerentes.nome')\n",
        "for usuario in dados:\n",
        "  print(usuario)"
      ],
      "metadata": {
        "colab": {
          "base_uri": "https://localhost:8080/",
          "height": 193
        },
        "id": "edAebWa5H4cx",
        "outputId": "ee27c298-6350-4010-9c28-3fac2226c71a"
      },
      "execution_count": null,
      "outputs": [
        {
          "output_type": "error",
          "ename": "OperationalError",
          "evalue": "RIGHT and FULL OUTER JOINs are not currently supported",
          "traceback": [
            "\u001b[0;31m---------------------------------------------------------------------------\u001b[0m",
            "\u001b[0;31mOperationalError\u001b[0m                          Traceback (most recent call last)",
            "\u001b[0;32m<ipython-input-49-f2482216fd42>\u001b[0m in \u001b[0;36m<cell line: 2>\u001b[0;34m()\u001b[0m\n\u001b[1;32m      1\u001b[0m \u001b[0;31m#JOIN - FULL JOIN: vai retornas todas as linhas da tabela\u001b[0m\u001b[0;34m\u001b[0m\u001b[0;34m\u001b[0m\u001b[0m\n\u001b[0;32m----> 2\u001b[0;31m \u001b[0mdados\u001b[0m \u001b[0;34m=\u001b[0m \u001b[0mcursor\u001b[0m\u001b[0;34m.\u001b[0m\u001b[0mexecute\u001b[0m \u001b[0;34m(\u001b[0m\u001b[0;34m'SELECT * FROM usuario FULL JOIN gerentes ON usuario.nome = gerentes.nome'\u001b[0m\u001b[0;34m)\u001b[0m\u001b[0;34m\u001b[0m\u001b[0;34m\u001b[0m\u001b[0m\n\u001b[0m\u001b[1;32m      3\u001b[0m \u001b[0;32mfor\u001b[0m \u001b[0musuario\u001b[0m \u001b[0;32min\u001b[0m \u001b[0mdados\u001b[0m\u001b[0;34m:\u001b[0m\u001b[0;34m\u001b[0m\u001b[0;34m\u001b[0m\u001b[0m\n\u001b[1;32m      4\u001b[0m   \u001b[0mprint\u001b[0m\u001b[0;34m(\u001b[0m\u001b[0musuario\u001b[0m\u001b[0;34m)\u001b[0m\u001b[0;34m\u001b[0m\u001b[0;34m\u001b[0m\u001b[0m\n",
            "\u001b[0;31mOperationalError\u001b[0m: RIGHT and FULL OUTER JOINs are not currently supported"
          ]
        }
      ]
    },
    {
      "cell_type": "markdown",
      "source": [
        "Sub-consultas\n",
        "- Também conhecidas como subquery sub select, são consultas SQL alinhadas dentro da nossa consulta principal. Elas permitem que a gente consiga estar utilizando o resultado de uma consulta como parte da condição ou de critério de uma outra consulta. São bastante úteis quando queremos realizar operações complexas."
      ],
      "metadata": {
        "id": "3-gXAzFZI0ao"
      }
    },
    {
      "cell_type": "code",
      "source": [
        "#Digamos que a gente queira pegar informações de duas tabelas\n",
        "dados = cursor.execute ('SELECT * FROM usuario WHERE nome IN (SELECT nome FROM gerentes )')\n",
        "#Estou dizendo: SELECIONE tudo da tabela usuário ONDE nome ESTEJA SELECIONADO nome da tabela gerentes\n",
        "for usuario in dados:\n",
        "  print(usuario)"
      ],
      "metadata": {
        "id": "bEzY33gRKDYY"
      },
      "execution_count": null,
      "outputs": []
    },
    {
      "cell_type": "code",
      "source": [
        "cursor.execute ('SELECT * FROM usuario')\n",
        "for gerentes in dados:\n",
        "  print(gerentes)"
      ],
      "metadata": {
        "colab": {
          "base_uri": "https://localhost:8080/"
        },
        "id": "yDVzc4KiArRT",
        "outputId": "7c546369-3d61-410e-f07a-71a4e47c2b19"
      },
      "execution_count": null,
      "outputs": [
        {
          "output_type": "stream",
          "name": "stdout",
          "text": [
            "(1, 'Isadora', 'França', 'taygmail.com', 982406678)\n",
            "(1, 'Tayná', 'Brasil', None, 25865)\n",
            "(2, 'Caynã', 'Alemanha', None, 48578)\n",
            "(3, 'Kauê', 'Argentina', None, 45236)\n",
            "(4, 'Júlia', 'Venezuela', None, 98565)\n",
            "(5, 'Pedro', 'Coreia', None, 85236)\n"
          ]
        }
      ]
    },
    {
      "cell_type": "markdown",
      "source": [
        "DROP"
      ],
      "metadata": {
        "id": "brzpuKJqsNm1"
      }
    },
    {
      "cell_type": "code",
      "source": [
        "cursor.execute ('CREATE TABLE produtos (id INT, nome VARCHAR (100), endereco VARCHAR (100), email VARCHAR (100))')"
      ],
      "metadata": {
        "colab": {
          "base_uri": "https://localhost:8080/"
        },
        "id": "sabluhvNsTw9",
        "outputId": "39cadd99-eff5-43b0-9a04-5238a381a6a6"
      },
      "execution_count": null,
      "outputs": [
        {
          "output_type": "execute_result",
          "data": {
            "text/plain": [
              "<sqlite3.Cursor at 0x7bf226fda0c0>"
            ]
          },
          "metadata": {},
          "execution_count": 15
        }
      ]
    },
    {
      "cell_type": "code",
      "source": [
        "#vamos excluir a tabela \"produtos\" usando DROP\n",
        "cursor.execute('DROP TABLE produtos') #lembrando que DROP exclui TODA A TABELA"
      ],
      "metadata": {
        "colab": {
          "base_uri": "https://localhost:8080/"
        },
        "id": "Nh7vnjC6sxOa",
        "outputId": "a313cccc-9cfe-4858-f423-ab17af26938a"
      },
      "execution_count": null,
      "outputs": [
        {
          "output_type": "execute_result",
          "data": {
            "text/plain": [
              "<sqlite3.Cursor at 0x7bf226fda0c0>"
            ]
          },
          "metadata": {},
          "execution_count": 16
        }
      ]
    },
    {
      "cell_type": "code",
      "source": [
        "conexao.commit() #o commit quer dizer que vão ser enviadas as informações\n",
        "conexao.close #é importante deixar o close para não dar conflito com o nosso gerenciador"
      ],
      "metadata": {
        "colab": {
          "base_uri": "https://localhost:8080/"
        },
        "id": "F6nVU6wkjZfN",
        "outputId": "edc792e6-cc0a-4994-c44d-92d2156be5e7"
      },
      "execution_count": null,
      "outputs": [
        {
          "output_type": "execute_result",
          "data": {
            "text/plain": [
              "<function Connection.close()>"
            ]
          },
          "metadata": {},
          "execution_count": 9
        }
      ]
    },
    {
      "cell_type": "markdown",
      "source": [
        "CREATE"
      ],
      "metadata": {
        "id": "ErTaAWgkkaOv"
      }
    },
    {
      "cell_type": "markdown",
      "source": [
        "ALTER\n",
        "Conseguimos estar utilizando para estar mudando a estrutura da tabela"
      ],
      "metadata": {
        "id": "kysbWin8mg9W"
      }
    },
    {
      "cell_type": "markdown",
      "source": [
        "SELECT"
      ],
      "metadata": {
        "id": "ksu4t3oQwkR8"
      }
    },
    {
      "cell_type": "code",
      "source": [
        "dados = cursor.execute('SELECT * FROM usuario') #vai me mostrar todas as informações\n",
        "for usuario in dados: #forma pythonica\n",
        "  print(usuario)\n",
        "\n",
        "conexao.commit()\n",
        "conexao.close"
      ],
      "metadata": {
        "colab": {
          "base_uri": "https://localhost:8080/",
          "height": 211
        },
        "id": "Ny4R6Gk9wqOd",
        "outputId": "89863b68-c702-4ff3-8985-fa691d7085e7"
      },
      "execution_count": null,
      "outputs": [
        {
          "output_type": "error",
          "ename": "NameError",
          "evalue": "name 'cursos' is not defined",
          "traceback": [
            "\u001b[0;31m---------------------------------------------------------------------------\u001b[0m",
            "\u001b[0;31mNameError\u001b[0m                                 Traceback (most recent call last)",
            "\u001b[0;32m<ipython-input-53-564798a3e80f>\u001b[0m in \u001b[0;36m<cell line: 1>\u001b[0;34m()\u001b[0m\n\u001b[0;32m----> 1\u001b[0;31m \u001b[0mdados\u001b[0m \u001b[0;34m=\u001b[0m \u001b[0mcursos\u001b[0m\u001b[0;34m.\u001b[0m\u001b[0mexecute\u001b[0m\u001b[0;34m(\u001b[0m\u001b[0;34m'SELECT * FROM usuario'\u001b[0m\u001b[0;34m)\u001b[0m \u001b[0;31m#vai me mostrar todas as informações\u001b[0m\u001b[0;34m\u001b[0m\u001b[0;34m\u001b[0m\u001b[0m\n\u001b[0m\u001b[1;32m      2\u001b[0m \u001b[0;32mfor\u001b[0m \u001b[0musuario\u001b[0m \u001b[0;32min\u001b[0m \u001b[0mdados\u001b[0m\u001b[0;34m:\u001b[0m \u001b[0;31m#forma pythonica\u001b[0m\u001b[0;34m\u001b[0m\u001b[0;34m\u001b[0m\u001b[0m\n\u001b[1;32m      3\u001b[0m   \u001b[0mprint\u001b[0m\u001b[0;34m(\u001b[0m\u001b[0musuario\u001b[0m\u001b[0;34m)\u001b[0m\u001b[0;34m\u001b[0m\u001b[0;34m\u001b[0m\u001b[0m\n\u001b[1;32m      4\u001b[0m \u001b[0;34m\u001b[0m\u001b[0m\n\u001b[1;32m      5\u001b[0m \u001b[0mconexao\u001b[0m\u001b[0;34m.\u001b[0m\u001b[0mcommit\u001b[0m\u001b[0;34m(\u001b[0m\u001b[0;34m)\u001b[0m\u001b[0;34m\u001b[0m\u001b[0;34m\u001b[0m\u001b[0m\n",
            "\u001b[0;31mNameError\u001b[0m: name 'cursos' is not defined"
          ]
        }
      ]
    },
    {
      "cell_type": "code",
      "source": [
        "#se eu não quiser todas as informações\n",
        "dados = cursos.execute('SELECT nome * FROM usuario') #eu seleciono apenas a coluna que eu quero ver, exemplo: quero ver apenas o nome\n",
        "#dados = cursos.execute('SELECT nome, telefone FROM usuario WHERE id > 2') # para mostrar mais de uma coluna. Exemplo: quero ver nome e telefone\n",
        "for usuario in dados: #forma pythonica\n",
        "  print(usuario)\n",
        "\n",
        "conexao.commit()\n",
        "conexao.close"
      ],
      "metadata": {
        "id": "1di7-uyVxRbq"
      },
      "execution_count": null,
      "outputs": []
    },
    {
      "cell_type": "markdown",
      "source": [
        "Revisão SQL: Nara Guimarães - 15/08/2024\n",
        "\n",
        "Medium: https://medium.com/@nara.guimaraes/tudo-o-que-voc%C3%AA-precisa-saber-sobre-banco-de-dados-45b50bd7e792\n",
        "\n",
        "Para praticar: https://www.sql-practice.com/\n",
        "\n",
        "https://www.devmedia.com.br/padronizacao-de-nomenclatura-revista-sql-magazine-100/24710"
      ],
      "metadata": {
        "id": "RaMds3vkMYHK"
      }
    }
  ]
}