{
  "nbformat": 4,
  "nbformat_minor": 0,
  "metadata": {
    "colab": {
      "provenance": [],
      "authorship_tag": "ABX9TyOXoiSvgImdR4hNIvE7upTT",
      "include_colab_link": true
    },
    "kernelspec": {
      "name": "python3",
      "display_name": "Python 3"
    },
    "language_info": {
      "name": "python"
    }
  },
  "cells": [
    {
      "cell_type": "markdown",
      "metadata": {
        "id": "view-in-github",
        "colab_type": "text"
      },
      "source": [
        "<a href=\"https://colab.research.google.com/github/TayBoaes/WoMakersCode-SQL/blob/main/wmc_exercicio_SQL.ipynb\" target=\"_parent\"><img src=\"https://colab.research.google.com/assets/colab-badge.svg\" alt=\"Open In Colab\"/></a>"
      ]
    },
    {
      "cell_type": "markdown",
      "source": [
        "1. Crie uma tabela chamada \"alunos\" com os seguintes campos: id\n",
        "(inteiro), nome (texto), idade (inteiro) e curso (texto).\n"
      ],
      "metadata": {
        "id": "48Y-c6x1nTew"
      }
    },
    {
      "cell_type": "code",
      "source": [
        "import sqlite3"
      ],
      "metadata": {
        "id": "or5yuVJunURP"
      },
      "execution_count": null,
      "outputs": []
    },
    {
      "cell_type": "code",
      "source": [
        "conexao = sqlite3.connect ('banco_exercicio_2')\n",
        "cursor = conexao.cursor()"
      ],
      "metadata": {
        "id": "JXUDP7IAndh4"
      },
      "execution_count": null,
      "outputs": []
    },
    {
      "cell_type": "code",
      "source": [
        "cursor.execute ('CREATE TABLE alunos (id INT, nome VARCHAR (100), idade INT, curso VARCHAR (100))')"
      ],
      "metadata": {
        "colab": {
          "base_uri": "https://localhost:8080/"
        },
        "id": "GOGfJF2Cn1mS",
        "outputId": "9922edce-f088-4c2a-ba1f-a40edd96c6d7"
      },
      "execution_count": null,
      "outputs": [
        {
          "output_type": "execute_result",
          "data": {
            "text/plain": [
              "<sqlite3.Cursor at 0x7b1a8007e7c0>"
            ]
          },
          "metadata": {},
          "execution_count": 3
        }
      ]
    },
    {
      "cell_type": "markdown",
      "source": [
        "2. Insira pelo menos 5 registros de alunos na tabela que você criou no\n",
        "exercício anterior"
      ],
      "metadata": {
        "id": "1iFSX8VEom_x"
      }
    },
    {
      "cell_type": "code",
      "source": [
        "cursor.execute ('INSERT INTO alunos (id,nome,idade,curso) VALUES (1, \"Tayná\", 28, \"Análise de dados\")')\n",
        "cursor.execute ('INSERT INTO alunos (id,nome,idade,curso) VALUES (2, \"Caynã\", 26, \"Engenharia\")')\n",
        "cursor.execute ('INSERT INTO alunos (id,nome,idade,curso) VALUES (3, \"Kauê\", 18, \"Administração\")')\n",
        "cursor.execute ('INSERT INTO alunos (id,nome,idade,curso) VALUES (4, \"Júlia\", 51, \"Veterinária\")')\n",
        "cursor.execute ('INSERT INTO alunos (id,nome,idade,curso) VALUES (5, \"Pedro\", 30, \"Engenharia\")')"
      ],
      "metadata": {
        "colab": {
          "base_uri": "https://localhost:8080/"
        },
        "id": "-59CuCGNxdhu",
        "outputId": "4011bfc6-df75-4a03-a469-5cd65c547ded"
      },
      "execution_count": null,
      "outputs": [
        {
          "output_type": "execute_result",
          "data": {
            "text/plain": [
              "<sqlite3.Cursor at 0x7b1a8007e7c0>"
            ]
          },
          "metadata": {},
          "execution_count": 4
        }
      ]
    },
    {
      "cell_type": "markdown",
      "source": [
        "3. Consultas Básicas\n",
        "Escreva consultas SQL para realizar as seguintes tarefas:\n",
        "a) Selecionar todos os registros da tabela \"alunos\".\n",
        "b) Selecionar o nome e a idade dos alunos com mais de 20 anos.\n",
        "c) Selecionar os alunos do curso de \"Engenharia\" em ordem\n",
        "alfabética.\n",
        "d) Contar o número total de alunos na tabela"
      ],
      "metadata": {
        "id": "lz87L1V_osy1"
      }
    },
    {
      "cell_type": "code",
      "source": [
        "#a) Selecionar todos os registros da tabela \"alunos\"\n",
        "cursor.execute ('SELECT * FROM alunos' ) #verificando a minha tabela e a mudança feita\n",
        "print (cursor.fetchall())"
      ],
      "metadata": {
        "colab": {
          "base_uri": "https://localhost:8080/"
        },
        "id": "09k9GhAQ0Irp",
        "outputId": "42f3fc6c-ff58-40f1-f4ee-396fc0e65bf7"
      },
      "execution_count": null,
      "outputs": [
        {
          "output_type": "stream",
          "name": "stdout",
          "text": [
            "[(1, 'Tayná', 28, 'Análise de dados'), (2, 'Caynã', 26, 'Engenharia'), (3, 'Kauê', 18, 'Administração'), (4, 'Júlia', 51, 'Veterinária'), (5, 'Pedro', 30, 'Engenharia')]\n"
          ]
        }
      ]
    },
    {
      "cell_type": "code",
      "source": [
        "#b)Selecionar o nome e a idade dos alunos com mais de 20 anos\n",
        "\n",
        "# Query usando o Igual \">\"\n",
        "consulta = cursor.execute(\n",
        "    '''\n",
        "SELECT * FROM alunos\n",
        "WHERE idade >=20\n",
        "    '''\n",
        ").fetchall()\n",
        "\n",
        "print (consulta)"
      ],
      "metadata": {
        "colab": {
          "base_uri": "https://localhost:8080/"
        },
        "id": "ECyl4p5i00kZ",
        "outputId": "3b6a1c5e-9f28-495d-be38-60189a2b2a97"
      },
      "execution_count": null,
      "outputs": [
        {
          "output_type": "stream",
          "name": "stdout",
          "text": [
            "[(1, 'Tayná', 28, 'Análise de dados'), (2, 'Caynã', 26, 'Engenharia'), (4, 'Júlia', 51, 'Veterinária'), (5, 'Pedro', 30, 'Engenharia')]\n"
          ]
        }
      ]
    },
    {
      "cell_type": "code",
      "source": [
        "# c) Selecionar os alunos do curso de \"Engenharia\" em ordem alfabética\n",
        "\n",
        "#Vou inserir mais dados para poder responder essa questão. Para isso vou usar o comando: INSERT INTO\n",
        "\n",
        "cursor.execute('INSERT INTO alunos (id, nome, idade, curso) VALUES (6, \"Lidy\",16,\"Engenharia\")')\n",
        "cursor.execute('INSERT INTO alunos (id, nome, idade, curso) VALUES (7, \"Livia\",18,\"Engenharia\")')\n",
        "cursor.execute('INSERT INTO alunos (id, nome, idade, curso) VALUES (8, \"Beatriz\",19,\"Ciências Sociais\")')"
      ],
      "metadata": {
        "colab": {
          "base_uri": "https://localhost:8080/"
        },
        "id": "gcFevheDPPjh",
        "outputId": "56e65b00-8bfc-4343-dfa5-845d12103459"
      },
      "execution_count": null,
      "outputs": [
        {
          "output_type": "execute_result",
          "data": {
            "text/plain": [
              "<sqlite3.Cursor at 0x7b1a8007e7c0>"
            ]
          },
          "metadata": {},
          "execution_count": 7
        }
      ]
    },
    {
      "cell_type": "code",
      "source": [
        "cursor.execute ('SELECT * FROM alunos' ) #verificando a minha tabela e a mudança feita\n",
        "print (cursor.fetchall())"
      ],
      "metadata": {
        "colab": {
          "base_uri": "https://localhost:8080/"
        },
        "id": "rqPdRyFGSUUS",
        "outputId": "79241db2-bde8-4790-e7fb-fa6dafb9dc6e"
      },
      "execution_count": null,
      "outputs": [
        {
          "output_type": "stream",
          "name": "stdout",
          "text": [
            "[(1, 'Tayná', 28, 'Análise de dados'), (2, 'Caynã', 26, 'Engenharia'), (3, 'Kauê', 18, 'Administração'), (4, 'Júlia', 51, 'Veterinária'), (5, 'Pedro', 30, 'Engenharia'), (6, 'Lidy', 16, 'Engenharia'), (7, 'Livia', 18, 'Engenharia'), (8, 'Beatriz', 19, 'Ciências Sociais')]\n"
          ]
        }
      ]
    },
    {
      "cell_type": "code",
      "source": [
        "alfabetica = cursor.execute(\n",
        "    '''\n",
        "SELECT nome AS 'Nome' FROM alunos\n",
        "WHERE curso = 'Engenharia'\n",
        "ORDER BY nome;\n",
        "    '''\n",
        ").fetchall()\n",
        "\n",
        "print (alfabetica)"
      ],
      "metadata": {
        "colab": {
          "base_uri": "https://localhost:8080/"
        },
        "id": "5aY6EnqTRlFn",
        "outputId": "1559ec2a-12b3-4c30-fe40-75b12591dbba"
      },
      "execution_count": null,
      "outputs": [
        {
          "output_type": "stream",
          "name": "stdout",
          "text": [
            "[('Caynã',), ('Lidy',), ('Livia',), ('Pedro',)]\n"
          ]
        }
      ]
    },
    {
      "cell_type": "code",
      "source": [
        " #d) Contar o número total de alunos na tabela\n",
        "\n",
        " total_alunos = cursor.execute(\n",
        "     '''\n",
        "     SELECT COUNT (id) as 'Identificação'\n",
        "     FROM alunos;\n",
        "     '''\n",
        " ).fetchall()\n",
        " print ('O total de alunos é:',total_alunos)\n"
      ],
      "metadata": {
        "colab": {
          "base_uri": "https://localhost:8080/"
        },
        "id": "ql4elrc6VNeY",
        "outputId": "4ac29b59-9b49-4b6a-c33d-03af06264dea"
      },
      "execution_count": null,
      "outputs": [
        {
          "output_type": "stream",
          "name": "stdout",
          "text": [
            "O total de alunos é: [(8,)]\n"
          ]
        }
      ]
    },
    {
      "cell_type": "markdown",
      "source": [
        "4. Atualização e Remoção\n",
        "a) Atualize a idade de um aluno específico na tabela.\n",
        "b) Remova um aluno pelo seu ID."
      ],
      "metadata": {
        "id": "UYMxNX3towJd"
      }
    },
    {
      "cell_type": "code",
      "source": [
        "# a) Atualize a idade de um aluno específico na tabela\n",
        "cursor.execute(\n",
        "    '''\n",
        "    UPDATE alunos\n",
        "    SET idade = 27\n",
        "    WHERE nome = \"Caynã\"\n",
        "    '''\n",
        ").fetchall\n",
        "\n",
        " #ficar atenta às aspas"
      ],
      "metadata": {
        "colab": {
          "base_uri": "https://localhost:8080/"
        },
        "id": "m6h4wcXMWq7l",
        "outputId": "4fd812b3-9da2-401e-e61d-36c7e14b8169"
      },
      "execution_count": null,
      "outputs": [
        {
          "output_type": "execute_result",
          "data": {
            "text/plain": [
              "<function Cursor.fetchall()>"
            ]
          },
          "metadata": {},
          "execution_count": 11
        }
      ]
    },
    {
      "cell_type": "code",
      "source": [
        "#vamos visualizar a mudança\n",
        "dados = cursor.execute (\n",
        "    '''\n",
        "    SELECT * FROM alunos\n",
        "    '''\n",
        ")\n",
        "\n",
        "for alunos in dados:\n",
        "  print(alunos)"
      ],
      "metadata": {
        "colab": {
          "base_uri": "https://localhost:8080/"
        },
        "id": "UhiPuz-gzhFG",
        "outputId": "a195f197-1a0d-41ec-85cd-0ca68ee0099e"
      },
      "execution_count": null,
      "outputs": [
        {
          "output_type": "stream",
          "name": "stdout",
          "text": [
            "(1, 'Tayná', 28, 'Análise de dados')\n",
            "(2, 'Caynã', 27, 'Engenharia')\n",
            "(3, 'Kauê', 18, 'Administração')\n",
            "(4, 'Júlia', 51, 'Veterinária')\n",
            "(5, 'Pedro', 30, 'Engenharia')\n",
            "(6, 'Lidy', 16, 'Engenharia')\n",
            "(7, 'Livia', 18, 'Engenharia')\n",
            "(8, 'Beatriz', 19, 'Ciências Sociais')\n"
          ]
        }
      ]
    },
    {
      "cell_type": "code",
      "source": [
        "#b) Remova um aluno pelo seu ID\n",
        "cursor.execute ('DELETE FROM alunos where id =6')"
      ],
      "metadata": {
        "colab": {
          "base_uri": "https://localhost:8080/"
        },
        "id": "OIXvV6rzvarP",
        "outputId": "ac92b180-a6b4-4d03-b568-dfaf5e28aed9"
      },
      "execution_count": null,
      "outputs": [
        {
          "output_type": "execute_result",
          "data": {
            "text/plain": [
              "<sqlite3.Cursor at 0x7b1a8007e7c0>"
            ]
          },
          "metadata": {},
          "execution_count": 13
        }
      ]
    },
    {
      "cell_type": "code",
      "source": [
        "#vamos visualizar a mudança\n",
        "dados = cursor.execute (\n",
        "    '''\n",
        "    SELECT * FROM alunos\n",
        "    '''\n",
        ")\n",
        "\n",
        "for alunos in dados:\n",
        "  print(alunos) #o id 6 foi excluído"
      ],
      "metadata": {
        "colab": {
          "base_uri": "https://localhost:8080/"
        },
        "id": "ZDt4SesW0JQe",
        "outputId": "3009762c-81ab-4b7f-95f2-461595601eff"
      },
      "execution_count": null,
      "outputs": [
        {
          "output_type": "stream",
          "name": "stdout",
          "text": [
            "(1, 'Tayná', 28, 'Análise de dados')\n",
            "(2, 'Caynã', 27, 'Engenharia')\n",
            "(3, 'Kauê', 18, 'Administração')\n",
            "(4, 'Júlia', 51, 'Veterinária')\n",
            "(5, 'Pedro', 30, 'Engenharia')\n",
            "(7, 'Livia', 18, 'Engenharia')\n",
            "(8, 'Beatriz', 19, 'Ciências Sociais')\n"
          ]
        }
      ]
    },
    {
      "cell_type": "markdown",
      "source": [
        "5. Criar uma Tabela e Inserir Dados\n",
        "Crie uma tabela chamada \"clientes\" com os campos: id (chave\n",
        "primária), nome (texto), idade (inteiro) e saldo (float). Insira alguns\n",
        "registros de clientes na tabela."
      ],
      "metadata": {
        "id": "dKAbYA3Mo0Im"
      }
    },
    {
      "cell_type": "code",
      "source": [
        "#criando a tabela clientes\n",
        "cursor.execute ('CREATE TABLE clientes (id INT, nome VARCHAR (100), idade INT, saldo FLOAT)')"
      ],
      "metadata": {
        "colab": {
          "base_uri": "https://localhost:8080/"
        },
        "id": "wgkFrNtE0zlK",
        "outputId": "7e517244-b413-4a90-be2f-4aebae1199b8"
      },
      "execution_count": null,
      "outputs": [
        {
          "output_type": "execute_result",
          "data": {
            "text/plain": [
              "<sqlite3.Cursor at 0x7b1a8007e7c0>"
            ]
          },
          "metadata": {},
          "execution_count": 15
        }
      ]
    },
    {
      "cell_type": "code",
      "source": [
        "#Inserindo alguns registros na tabela\n",
        "\n",
        "cursor.execute('INSERT INTO clientes (id, nome, idade, saldo) VALUES (1, \"Mirna\",18,\"1000\")')\n",
        "cursor.execute('INSERT INTO clientes (id, nome, idade, saldo) VALUES (2, \"Beatriz\",32,\"2000\")')\n",
        "cursor.execute('INSERT INTO clientes (id, nome, idade, saldo) VALUES (3, \"Ramilda\",25,\"500\")')\n",
        "cursor.execute('INSERT INTO clientes (id, nome, idade, saldo) VALUES (4, \"Lucas\",40,\"5000\")')\n",
        "cursor.execute('INSERT INTO clientes (id, nome, idade, saldo) VALUES (5, \"Pedro\",36,\"100\")')\n",
        "cursor.execute('INSERT INTO clientes (id, nome, idade, saldo) VALUES (6, \"Debora\",50,\"800\")')"
      ],
      "metadata": {
        "colab": {
          "base_uri": "https://localhost:8080/"
        },
        "id": "ODkYoh5aEuJm",
        "outputId": "84eb323e-8096-4955-d89f-605cbecaf4f2"
      },
      "execution_count": null,
      "outputs": [
        {
          "output_type": "execute_result",
          "data": {
            "text/plain": [
              "<sqlite3.Cursor at 0x7b1a8007e7c0>"
            ]
          },
          "metadata": {},
          "execution_count": 16
        }
      ]
    },
    {
      "cell_type": "code",
      "source": [
        "#vamos visualizar a nossa tabela\n",
        "dados_clientes = cursor.execute (\n",
        "    '''\n",
        "    SELECT * FROM clientes\n",
        "    '''\n",
        ")\n",
        "\n",
        "for clientes in dados_clientes:\n",
        "  print(clientes)"
      ],
      "metadata": {
        "colab": {
          "base_uri": "https://localhost:8080/"
        },
        "id": "DE1XP4etGKFw",
        "outputId": "51de3b16-9d0c-44df-a8e8-48074227415d"
      },
      "execution_count": null,
      "outputs": [
        {
          "output_type": "stream",
          "name": "stdout",
          "text": [
            "(1, 'Mirna', 18, 1000.0)\n",
            "(2, 'Beatriz', 32, 2000.0)\n",
            "(3, 'Ramilda', 25, 500.0)\n",
            "(4, 'Lucas', 40, 5000.0)\n",
            "(5, 'Pedro', 36, 100.0)\n",
            "(6, 'Debora', 50, 800.0)\n"
          ]
        }
      ]
    },
    {
      "cell_type": "code",
      "source": [
        "dados_clientes = cursor.execute (\n",
        "    '''\n",
        "    SELECT * FROM cliente\n",
        "    '''\n",
        ")\n",
        "\n",
        "for cliente in dados_clientes:\n",
        "  print(cliente) #o id 6 foi excluído"
      ],
      "metadata": {
        "id": "YQe50c2U9BlG"
      },
      "execution_count": null,
      "outputs": []
    },
    {
      "cell_type": "markdown",
      "source": [
        "6. Consultas e Funções Agregadas\n",
        "Escreva consultas SQL para realizar as seguintes tarefas:\n",
        "a) Selecione o nome e a idade dos clientes com idade superior a\n",
        "30 anos b) Calcule o saldo médio dos clientes.\n",
        "c) Encontre o cliente com o saldo máximo.\n",
        "d) Conte quantos clientes têm saldo acima de 1000."
      ],
      "metadata": {
        "id": "vuj-ejT5o25_"
      }
    },
    {
      "cell_type": "code",
      "source": [
        "#a) Selecione o nome e a idade dos clientes com idade superior a 30 anos\n",
        "\n",
        "dados_clientes = cursor.execute (\n",
        "    '''\n",
        "    SELECT nome FROM clientes\n",
        "    WHERE idade > 30\n",
        "\n",
        "    '''\n",
        ").fetchall()\n",
        "print ('Clientes com idade superior a 30 anos:',dados_clientes)"
      ],
      "metadata": {
        "colab": {
          "base_uri": "https://localhost:8080/"
        },
        "id": "SjPjT5nMGhhr",
        "outputId": "f8ffd370-40c7-429d-919b-284a0c79f098"
      },
      "execution_count": null,
      "outputs": [
        {
          "output_type": "stream",
          "name": "stdout",
          "text": [
            "Clientes com idade superior a 30 anos: [('Beatriz',), ('Lucas',), ('Pedro',), ('Debora',)]\n"
          ]
        }
      ]
    },
    {
      "cell_type": "code",
      "source": [
        "#b) Calcule o saldo médio dos clientes\n",
        "\n",
        "dados_clientes = cursor.execute (\n",
        "    '''\n",
        "    SELECT AVG (saldo)\n",
        "    FROM clientes\n",
        "\n",
        "    '''\n",
        ").fetchall()\n",
        "print ('O saldo médio dos clientes é:',dados_clientes)"
      ],
      "metadata": {
        "colab": {
          "base_uri": "https://localhost:8080/"
        },
        "id": "bRK7-jt2JTPe",
        "outputId": "1b3c2429-30e0-4c06-b7d8-dccfc44b0283"
      },
      "execution_count": null,
      "outputs": [
        {
          "output_type": "stream",
          "name": "stdout",
          "text": [
            "O saldo médio dos clientes é: [(1566.6666666666667,)]\n"
          ]
        }
      ]
    },
    {
      "cell_type": "code",
      "source": [
        "#c) Encontre o cliente com o saldo máximo\n",
        "dados_clientes = cursor.execute (\n",
        "    '''\n",
        "    SELECT nome,\n",
        "    MAX (saldo)\n",
        "    FROM clientes\n",
        "    '''\n",
        ").fetchall()\n",
        "print ('O cliente com o saldo máximo é:',dados_clientes)"
      ],
      "metadata": {
        "colab": {
          "base_uri": "https://localhost:8080/"
        },
        "id": "fUcJlKAXJ07W",
        "outputId": "d8c95bae-b9cf-45f4-e2fe-38fa36ab9af7"
      },
      "execution_count": null,
      "outputs": [
        {
          "output_type": "stream",
          "name": "stdout",
          "text": [
            "O cliente com o saldo máximo é: [('Lucas', 5000.0)]\n"
          ]
        }
      ]
    },
    {
      "cell_type": "code",
      "source": [
        "#d) Conte quantos clientes têm saldo acima de 1000\n",
        "dados_clientes = cursor.execute (\n",
        "    '''\n",
        "    SELECT COUNT (id)\n",
        "    FROM clientes\n",
        "    WHERE saldo > 1000\n",
        "\n",
        "    '''\n",
        ").fetchall()\n",
        "print ('Total de clientes com saldo maior que 1000:',dados_clientes)"
      ],
      "metadata": {
        "colab": {
          "base_uri": "https://localhost:8080/"
        },
        "id": "YGLymNLGRgBY",
        "outputId": "5b4380c9-1654-4a13-b4a3-e78c237297ba"
      },
      "execution_count": null,
      "outputs": [
        {
          "output_type": "stream",
          "name": "stdout",
          "text": [
            "Total de clientes com saldo maior que 1000: [(2,)]\n"
          ]
        }
      ]
    },
    {
      "cell_type": "markdown",
      "source": [
        "7. Atualização e Remoção com Condições\n",
        "a) Atualize o saldo de um cliente específico.\n",
        "b) Remova um cliente pelo seu ID."
      ],
      "metadata": {
        "id": "2P9p-zIFo8zu"
      }
    },
    {
      "cell_type": "code",
      "source": [
        "#a) Atualize o saldo de um cliente específico\n",
        "cursor.execute(\n",
        "    '''\n",
        "    UPDATE clientes\n",
        "    SET saldo = 7000\n",
        "    WHERE nome = \"Pedro\"\n",
        "    '''\n",
        ").fetchall"
      ],
      "metadata": {
        "colab": {
          "base_uri": "https://localhost:8080/"
        },
        "id": "7EixEVnbTrY4",
        "outputId": "8fe02c33-cb4c-48f4-9033-3a559de7c049"
      },
      "execution_count": null,
      "outputs": [
        {
          "output_type": "execute_result",
          "data": {
            "text/plain": [
              "<function Cursor.fetchall()>"
            ]
          },
          "metadata": {},
          "execution_count": 80
        }
      ]
    },
    {
      "cell_type": "code",
      "source": [
        "#b) Remova um cliente pelo seu ID\n",
        "cursor.execute ('DELETE FROM clientes where id =6')\n"
      ],
      "metadata": {
        "colab": {
          "base_uri": "https://localhost:8080/"
        },
        "id": "T2KKLGIvUfem",
        "outputId": "2840121d-9717-4001-e144-c8bc73568327"
      },
      "execution_count": null,
      "outputs": [
        {
          "output_type": "execute_result",
          "data": {
            "text/plain": [
              "<sqlite3.Cursor at 0x7b1a8007e7c0>"
            ]
          },
          "metadata": {},
          "execution_count": 82
        }
      ]
    },
    {
      "cell_type": "code",
      "source": [
        "cursor.execute ('SELECT * FROM clientes' ) #verificando a minha tabela e a mudança feita\n",
        "print (cursor.fetchall())"
      ],
      "metadata": {
        "colab": {
          "base_uri": "https://localhost:8080/"
        },
        "id": "NAs0CUn8UYoK",
        "outputId": "7bdb09b7-1af4-4ee4-b6df-678f7140b464"
      },
      "execution_count": null,
      "outputs": [
        {
          "output_type": "stream",
          "name": "stdout",
          "text": [
            "[(1, 'Mirna', 18, 1000.0), (2, 'Beatriz', 32, 2000.0), (3, 'Ramilda', 25, 500.0), (4, 'Lucas', 40, 5000.0), (5, 'Pedro', 36, 7000.0)]\n"
          ]
        }
      ]
    },
    {
      "cell_type": "markdown",
      "source": [
        "8. Junção de Tabelas\n",
        "Crie uma segunda tabela chamada \"compras\" com os campos: id\n",
        "(chave primária), cliente_id (chave estrangeira referenciando o id\n",
        "da tabela \"clientes\"), produto (texto) e valor (real). Insira algumas\n",
        "compras associadas a clientes existentes na tabela \"clientes\".\n",
        "Escreva uma consulta para exibir o nome do cliente, o produto e o\n",
        "valor de cada compra"
      ],
      "metadata": {
        "id": "X3uaAd0PpH1u"
      }
    },
    {
      "cell_type": "code",
      "source": [
        "#Criando a tabela chamada \"Compras\"\n",
        "cursor.execute ('CREATE TABLE compras (id INT, cliente_id INT, produto VARCHAR (100), valor REAL )')"
      ],
      "metadata": {
        "colab": {
          "base_uri": "https://localhost:8080/"
        },
        "id": "1RhaZ-fQVQeZ",
        "outputId": "929c1a1f-5596-4359-a81e-242c40a33b9b"
      },
      "execution_count": null,
      "outputs": [
        {
          "output_type": "execute_result",
          "data": {
            "text/plain": [
              "<sqlite3.Cursor at 0x7b1a8007e7c0>"
            ]
          },
          "metadata": {},
          "execution_count": 85
        }
      ]
    },
    {
      "cell_type": "code",
      "source": [
        "#Inserindo algumas compras associadas a clientes existentes na tabela \"clientes\"\n",
        "cursor.execute('INSERT INTO compras (id, cliente_id, produto, valor) VALUES (1, 1,\"vassoura\",\"70\")')\n",
        "cursor.execute('INSERT INTO compras (id, cliente_id, produto, valor) VALUES (2, 2,\"toalha\",\"10\")')\n",
        "cursor.execute('INSERT INTO compras (id, cliente_id, produto, valor) VALUES (3, 3,\"lixeira\",\"25\")')\n",
        "cursor.execute('INSERT INTO compras (id, cliente_id, produto, valor) VALUES (4, 4,\"caneta\",\"52\")')\n",
        "cursor.execute('INSERT INTO compras (id, cliente_id, produto, valor) VALUES (5, 5,\"caderno\",\"93\")')\n"
      ],
      "metadata": {
        "colab": {
          "base_uri": "https://localhost:8080/"
        },
        "id": "DXiAuFFkWhhv",
        "outputId": "7b3b9bde-851c-4b50-f445-88737d5b71ed"
      },
      "execution_count": null,
      "outputs": [
        {
          "output_type": "execute_result",
          "data": {
            "text/plain": [
              "<sqlite3.Cursor at 0x7b1a8007e7c0>"
            ]
          },
          "metadata": {},
          "execution_count": 86
        }
      ]
    },
    {
      "cell_type": "code",
      "source": [
        "#Escreva uma consulta para exibir o nome do cliente, o produto e o valor de cada compra\n",
        "consulta = cursor.execute (\n",
        "    '''\n",
        "    SELECT nome, produto, valor\n",
        "    FROM clientes\n",
        "    INNER JOIN compras\n",
        "    ON clientes.id = compras.cliente_id\n",
        "    '''\n",
        ").fetchall()\n",
        "print (consulta)\n"
      ],
      "metadata": {
        "colab": {
          "base_uri": "https://localhost:8080/"
        },
        "id": "nh0b3s5pag8z",
        "outputId": "351bef02-9874-4f35-dc1a-698572dcd431"
      },
      "execution_count": null,
      "outputs": [
        {
          "output_type": "stream",
          "name": "stdout",
          "text": [
            "[('Mirna', 'vassoura', 70.0), ('Beatriz', 'toalha', 10.0), ('Ramilda', 'lixeira', 25.0), ('Lucas', 'caneta', 52.0), ('Pedro', 'caderno', 93.0)]\n"
          ]
        }
      ]
    },
    {
      "cell_type": "code",
      "source": [
        "cursor.execute ('SELECT * FROM compras' ) #verificando a minha tabela e a mudança feita\n",
        "print (cursor.fetchall())"
      ],
      "metadata": {
        "colab": {
          "base_uri": "https://localhost:8080/"
        },
        "id": "pkXXRMAqYqn-",
        "outputId": "39dccf4e-4b55-4783-968d-94b08630959d"
      },
      "execution_count": null,
      "outputs": [
        {
          "output_type": "stream",
          "name": "stdout",
          "text": [
            "[(1, 1, 'vassoura', 70.0), (2, 2, 'toalha', 10.0), (3, 3, 'lixeira', 25.0), (4, 4, 'caneta', 52.0), (5, 5, 'caderno', 93.0)]\n"
          ]
        }
      ]
    },
    {
      "cell_type": "code",
      "source": [
        "conexao.commit() #o commit quer dizer que vão ser enviadas as informações\n",
        "conexao.close"
      ],
      "metadata": {
        "colab": {
          "base_uri": "https://localhost:8080/"
        },
        "id": "ltrCmh2ovbDS",
        "outputId": "b8fc807d-64ac-4a37-96e6-308765670f85"
      },
      "execution_count": null,
      "outputs": [
        {
          "output_type": "execute_result",
          "data": {
            "text/plain": [
              "<function Connection.close()>"
            ]
          },
          "metadata": {},
          "execution_count": 93
        }
      ]
    }
  ]
}